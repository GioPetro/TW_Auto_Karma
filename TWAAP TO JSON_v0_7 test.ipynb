{
 "cells": [
  {
   "cell_type": "markdown",
   "metadata": {},
   "source": [
    "# TWAAP TO AUTOMATE JSON KARMA\n",
    "\n",
    "#### Step 1: Use TW AAP to get the SIMPLE EXPORT of the plan."
   ]
  },
  {
   "cell_type": "markdown",
   "metadata": {},
   "source": [
    "# WORLD SETTINGS, ARCHERS?\n",
    "# ADD LAND TIME \n",
    "# ADD NUKES MS \n",
    "#### AND\n",
    "# NOBLES MS\n",
    "\n",
    "# Version 0.6: Now we can add fakes and fangs.\n",
    "Fangs are set by default using Cats(number 9 in tw aap).\n",
    "\n",
    "Fakes need to be replaced the unit speed in the generated text to \"Fakes\" or \"fakes\"."
   ]
  },
  {
   "cell_type": "code",
   "execution_count": 6,
   "metadata": {},
   "outputs": [],
   "source": [
    "\"WORLD SETTINGS\"\n",
    "ARCHERS = True\n",
    "nuke_ms = \":100\"\n",
    "noble_ms = \":150\"\n",
    "support_ms = \":600\"\n",
    "saved_twwaap_txt_file = 'LOAD_TW_AAP_RESULTS.txt'"
   ]
  },
  {
   "cell_type": "code",
   "execution_count": 7,
   "metadata": {},
   "outputs": [],
   "source": [
    "land_time_general = \"07/01/2023, 12:45:00\""
   ]
  },
  {
   "cell_type": "code",
   "execution_count": 8,
   "metadata": {},
   "outputs": [],
   "source": [
    "from datetime import datetime\n",
    "from datetime import timedelta\n",
    "from random import randint\n",
    "import re\n",
    "# how many seconds to add for support commands.\n",
    "support_difference = timedelta(seconds=1) \n",
    "from pytz import timezone\n",
    "TW_VILLAGE_IDS = \"https://gr79.fyletikesmaxes.gr/map/village.txt\"\n",
    "#TW_VILLAGE_IDS = \"https://grp5.fyletikesmaxes.gr/map/village.txt\""
   ]
  },
  {
   "cell_type": "code",
   "execution_count": 9,
   "metadata": {},
   "outputs": [],
   "source": [
    "d = {}\n",
    "dict_monades = dict()\n",
    "if ARCHERS==True:\n",
    "    dict_monades[\"nuke\"] = {\"0\":[0,0,30000,0,0,30000,30000,0,30000,100,1,0]}\n",
    "    dict_monades[\"nobles\"] = {\n",
    "                          \"0\":[0,0,1400,0,0,700,0,0,400,0,0,1],\n",
    "                          \"1\":[0,0,1400,0,0,700,0,0,0,0,0,1],\n",
    "                          \"2\":[0,0,1400,0,0,700,0,0,0,0,0,1],\n",
    "                          \"3\":[0,0,1400,0,0,700,0,0,0,0,0,1]}\n",
    "    dict_monades[\"support_sword\"] = {\"0\":[30000,30000,0,30000,0,0,0,30000,0,0,0,0]} # Sword unit\n",
    "    dict_monades[\"support_spear\"] = {\"0\":[30000,0,0,30000,0,0,0,30000,0,0,0,0]} # spear unit\n",
    "                               \n",
    "    dict_monades[\"fake\"] = {\"0\":[0,0,0,0,50,25,25,16,2,2,0,0]}\n",
    "    dict_monades[\"Cat\"] = {\"0\":[0,0,0,0,50,200,200,200,0,30000,0,0]}\n",
    "else: \n",
    "    dict_monades[\"nuke\"] = {\"0\":[0,0,30000,0,30000,0,30000,200,1,0]} # RAM unit\n",
    "    dict_monades[\"nobles\"] = { #NOBLE unit\n",
    "                              \"0\":[0,0,1400,0,0,700,0,0,400,0,0,1],\n",
    "                              \"1\":[0,0,1400,0,0,700,0,0,0,0,0,1],\n",
    "                              \"2\":[0,0,1400,0,0,700,0,0,0,0,0,1],\n",
    "                              \"3\":[0,0,1400,0,0,700,0,0,0,0,0,1]}\n",
    "    dict_monades[\"support_sword\"] = {\"0\":[30000,30000,0,0,0,30000,0,0,0,0]} # Sword unit\n",
    "    dict_monades[\"support_spear\"] = {\"0\":[30000,0,0,0,0,30000,0,0,0,0]} # spear unit\n",
    "    dict_monades[\"fake\"] = {\"0\":[0,0,0,50,25,16,2,2,0,0]} # ram unit\n",
    "    dict_monades[\"Cat\"] = {\"0\":[0,0,0,50,200,200,0,30000,0,0]} # CAT unit"
   ]
  },
  {
   "cell_type": "code",
   "execution_count": 10,
   "metadata": {},
   "outputs": [
    {
     "ename": "AttributeError",
     "evalue": "'NoneType' object has no attribute 'group'",
     "output_type": "error",
     "traceback": [
      "\u001b[1;31m---------------------------------------------------------------------------\u001b[0m",
      "\u001b[1;31mAttributeError\u001b[0m                            Traceback (most recent call last)",
      "\u001b[1;32m<ipython-input-10-d569951623ec>\u001b[0m in \u001b[0;36m<module>\u001b[1;34m\u001b[0m\n\u001b[0;32m      6\u001b[0m             \u001b[0mx\u001b[0m \u001b[1;33m=\u001b[0m \u001b[0mcommand\u001b[0m\u001b[1;33m.\u001b[0m\u001b[0msplit\u001b[0m\u001b[1;33m(\u001b[0m\u001b[1;34m\" \"\u001b[0m\u001b[1;33m)\u001b[0m\u001b[1;33m\u001b[0m\u001b[1;33m\u001b[0m\u001b[0m\n\u001b[0;32m      7\u001b[0m             \u001b[0mvillage_id\u001b[0m \u001b[1;33m=\u001b[0m \u001b[0mx\u001b[0m\u001b[1;33m[\u001b[0m\u001b[1;36m10\u001b[0m\u001b[1;33m]\u001b[0m\u001b[1;33m\u001b[0m\u001b[1;33m\u001b[0m\u001b[0m\n\u001b[1;32m----> 8\u001b[1;33m             \u001b[0mvillage_id\u001b[0m \u001b[1;33m=\u001b[0m \u001b[0mre\u001b[0m\u001b[1;33m.\u001b[0m\u001b[0msearch\u001b[0m\u001b[1;33m(\u001b[0m\u001b[1;34m'village=(.+?)&screen'\u001b[0m\u001b[1;33m,\u001b[0m \u001b[0mx\u001b[0m\u001b[1;33m[\u001b[0m\u001b[1;36m10\u001b[0m\u001b[1;33m]\u001b[0m\u001b[1;33m)\u001b[0m\u001b[1;33m.\u001b[0m\u001b[0mgroup\u001b[0m\u001b[1;33m(\u001b[0m\u001b[1;36m1\u001b[0m\u001b[1;33m)\u001b[0m\u001b[1;33m\u001b[0m\u001b[1;33m\u001b[0m\u001b[0m\n\u001b[0m\u001b[0;32m      9\u001b[0m             \u001b[0mprint\u001b[0m\u001b[1;33m(\u001b[0m\u001b[0mvillage_id\u001b[0m\u001b[1;33m)\u001b[0m\u001b[1;33m\u001b[0m\u001b[1;33m\u001b[0m\u001b[0m\n\u001b[0;32m     10\u001b[0m \u001b[1;33m\u001b[0m\u001b[0m\n",
      "\u001b[1;31mAttributeError\u001b[0m: 'NoneType' object has no attribute 'group'"
     ]
    }
   ],
   "source": [
    "with open (saved_twwaap_txt_file, 'rt') as myfile:\n",
    "        karma_plano = {}\n",
    "\n",
    "        for count, command in enumerate(myfile):              # For each line, read to a string,\n",
    "            karma_plano[str(count)] = {} # 0 and next numbers found by enumarate() when reading lines (fix cell no.4)\n",
    "            x = command.split(\" \")\n",
    "            village_id = x[10]\n",
    "            village_id = re.search('village=(.+?)&screen', x[10]).group(1)\n",
    "            print(village_id)\n",
    "            \n",
    "            date_time = x[1].replace(\"[b]\",\"\").replace(\",\",\"\")\n",
    "            print(\"date_time\", date_time)\n",
    "            date = x[2].replace(\"[/b]\",\"\").replace(\",\",\"\")\n",
    "            print(\"date\", date)\n",
    "            \n",
    "            launch_time = date+\", \"+date_time\n",
    "            print(launch_time)\n",
    "            \n",
    "            from_coord = x[4].replace(\"[/coord]\",\"\").replace(\"[coord]\",\"\")\n",
    "            print(from_coord)\n",
    "            \n",
    "            to_coord = x[6].replace(\"[/coord]\",\"\").replace(\"[coord]\",\"\")\n",
    "            print(to_coord)\n",
    "            unit_speed = x[8].replace(\"[b]\",\"\").replace(\"[/b]\",\"\") # used to set default units. if ram=nuke, noble=4commands with noble ADD new keyword for FAKES or FANGS\n",
    "            print(unit_speed)\n",
    "            command_type = x[9].replace(\"([i]\",\"\").replace(\"[/i])\",\"\").lower()\n",
    "            print(command_type)"
   ]
  },
  {
   "cell_type": "markdown",
   "metadata": {},
   "source": [
    "## Get the TWAAP input and clean it."
   ]
  },
  {
   "cell_type": "code",
   "execution_count": null,
   "metadata": {},
   "outputs": [],
   "source": [
    "\n",
    "\"\"\"\n",
    "Use strptime to convert string to datetime object\n",
    "Use strftime to convert datetime object to string\n",
    "\"\"\"\n",
    "def twaap_to_karma(saved_twwaap_txt_file,land_time_general,nuke_ms,noble_ms):\n",
    "    \n",
    "    with open (saved_twwaap_txt_file, 'rt') as myfile:\n",
    "        karma_plano = {}\n",
    "\n",
    "        for count, command in enumerate(myfile):              # For each line, read to a string,\n",
    "            karma_plano[str(count)] = {} # 0 and next numbers found by enumarate() when reading lines (fix cell no.4)\n",
    "            x = command.split(\" \")\n",
    "            village_id = x[10]\n",
    "            village_id = re.search('village=(.+?)&screen', village_id).group(1)\n",
    "            date_time = x[1].replace(\"[b]\",\"\").replace(\",\",\"\")\n",
    "            date = x[2].replace(\"[/b]\",\"\").replace(\",\",\"\")\n",
    "            launch_time = date+\", \"+date_time\n",
    "            from_coord = x[4].replace(\"[/coord]\",\"\").replace(\"[coord]\",\"\")\n",
    "            to_coord = x[6].replace(\"[/coord]\",\"\").replace(\"[coord]\",\"\")\n",
    "            unit_speed = x[8].replace(\"[b]\",\"\").replace(\"[/b]\",\"\") # used to set default units. if ram=nuke, noble=4commands with noble ADD new keyword for FAKES or FANGS\n",
    "            command_type = x[9].replace(\"([i]\",\"\").replace(\"[/i])\",\"\").lower()\n",
    "            \n",
    "            if unit_speed == \"Ram\":\n",
    "            # smart way to tick the box if units are applied\n",
    "                unit_tickboxes = [False if unit==0 else True for unit in dict_monades[\"nuke\"]['0']]\n",
    "                launch_time_number = launch_time+nuke_ms # needs the ms to set for launching (mallon)\n",
    "                land_time = land_time_general+nuke_ms\n",
    "                # create number from launch date:\n",
    "                launch_time_number = datetime.strptime(launch_time_number,(\"%d/%m/%Y, %H:%M:%S:%f\"))\n",
    "            elif unit_speed ==\"Noble\":\n",
    "            # smart way to tick the box if units are applied\n",
    "                unit_tickboxes = [False if unit==0 else True for unit in dict_monades[\"nobles\"]['0']]\n",
    "                launch_time_number = launch_time+noble_ms # needs the ms to set for launching (mallon)\n",
    "                land_time = land_time_general+noble_ms\n",
    "                # create number from launch date:\n",
    "                launch_time_number = datetime.strptime(launch_time_number,(\"%d/%m/%Y, %H:%M:%S:%f\"))\n",
    "            elif unit_speed ==\"Spear\": # for support\n",
    "            # smart way to tick the box if units are applied\n",
    "                unit_tickboxes = [False if unit==0 else True for unit in dict_monades[\"support_spear\"]['0']]\n",
    "               \n",
    "                # by default, supports will land 1 second after nukes. Can change in parameter settings.\n",
    "                launch_time_number = launch_time+support_ms # needs the ms to set for launching\n",
    "                launch_time_number = datetime.strptime(launch_time_number,(\"%d/%m/%Y, %H:%M:%S:%f\"))\n",
    "                launch_time_number += support_difference\n",
    "                # add 1 second to land time too and reformat it to (d/m/y, h/m/s/ms)\n",
    "                land_time = land_time_general+support_ms \n",
    "                land_time = datetime.strptime(land_time,(\"%d/%m/%Y, %H:%M:%S:%f\"))\n",
    "                land_time += support_difference\n",
    "                land_time = land_time.strftime(\"%d/%m/%Y, %H:%M:%S:%f\")[:-3]\n",
    "                # add 1 second to launch_time too (careful, does not need milliseconds)\n",
    "                launch_time = datetime.strptime(launch_time,(\"%d/%m/%Y, %H:%M:%S\"))\n",
    "                launch_time+= support_difference\n",
    "                launch_time = launch_time.strftime(\"%d/%m/%Y, %H:%M:%S\")\n",
    "            \n",
    "            elif unit_speed ==\"Sword\": # for support\n",
    "            # smart way to tick the box if units are applied\n",
    "                unit_tickboxes = [False if unit==0 else True for unit in dict_monades[\"support_sword\"]['0']]\n",
    "               \n",
    "                # by default, supports will land 1 second after nukes. Can change in parameter settings.\n",
    "                launch_time_number = launch_time+support_ms # needs the ms to set for launching\n",
    "                launch_time_number = datetime.strptime(launch_time_number,(\"%d/%m/%Y, %H:%M:%S:%f\"))\n",
    "                launch_time_number += support_difference\n",
    "                # add 1 second to land time too and reformat it to (d/m/y, h/m/s/ms)\n",
    "                land_time = land_time_general+support_ms \n",
    "                land_time = datetime.strptime(land_time,(\"%d/%m/%Y, %H:%M:%S:%f\"))\n",
    "                land_time += support_difference\n",
    "                land_time = land_time.strftime(\"%d/%m/%Y, %H:%M:%S:%f\")[:-3]\n",
    "                # add 1 second to launch_time too (careful, does not need milliseconds)\n",
    "                launch_time = datetime.strptime(launch_time,(\"%d/%m/%Y, %H:%M:%S\"))\n",
    "                launch_time+= support_difference\n",
    "                launch_time = launch_time.strftime(\"%d/%m/%Y, %H:%M:%S\")\n",
    "            \n",
    "           \n",
    "            elif unit_speed ==\"Fake\" or unit_speed ==\"fake\": # for fakes\n",
    "                unit_tickboxes = [False if unit==0 else True for unit in dict_monades[\"fake\"]['0']]\n",
    "                # add random ms for fakes\n",
    "                random_ms_fake = \":\"+''.join([\"{}\".format(randint(0, 9)) for num in range(0, 3)]) #up to 999 ms\n",
    "                launch_time_number = launch_time+random_ms_fake # needs the ms to set for launching (mallon)\n",
    "                land_time = land_time_general+random_ms_fake\n",
    "                # create number from launch date:\n",
    "                launch_time_number = datetime.strptime(launch_time_number,(\"%d/%m/%Y, %H:%M:%S:%f\"))\n",
    "\n",
    "            elif unit_speed ==\"Cat\": # for fangs\n",
    "                unit_tickboxes = [False if unit==0 else True for unit in dict_monades[\"Cat\"]['0']]\n",
    "                # add random ms for fakes\n",
    "                random_ms_fake = \":\"+''.join([\"{}\".format(randint(0, 9)) for num in range(0, 3)]) #up to 999 ms\n",
    "                launch_time_number = launch_time+random_ms_fake # needs the ms to set for launching (mallon)\n",
    "                land_time = land_time_general+random_ms_fake\n",
    "                # create number from launch date:\n",
    "                launch_time_number = datetime.strptime(launch_time_number,(\"%d/%m/%Y, %H:%M:%S:%f\"))\n",
    "            \n",
    "            launch_time_number = int(round(launch_time_number.timestamp() *1000)) - 12000\n",
    "            karma_plano[str(count)]['basic'] = [village_id, # id of the village (url)\n",
    "                       from_coord,\n",
    "                       to_coord,\n",
    "                       land_time,\n",
    "                       launch_time, \n",
    "                       launch_time_number,\n",
    "                       command_type,\n",
    "                       False,0, '',\n",
    "                       # smart way to tick the box if units are applied\n",
    "                       #false,false,false,false,true,false,false,false,false,false,false,false\n",
    "                      ]+unit_tickboxes\n",
    "            if unit_speed == \"Ram\":\n",
    "                karma_plano[str(count)]['monades'] = dict_monades[\"nuke\"]\n",
    "            elif unit_speed ==\"Noble\":\n",
    "                karma_plano[str(count)]['monades'] = dict_monades[\"nobles\"]\n",
    "            elif unit_speed ==\"Spear\":\n",
    "                karma_plano[str(count)]['monades'] = dict_monades[\"support\"]\n",
    "            elif unit_speed ==\"Fake\" or unit_speed==\"fake\":\n",
    "                karma_plano[str(count)]['monades'] = dict_monades[\"fake\"]\n",
    "            elif unit_speed ==\"Cat\":\n",
    "                karma_plano[str(count)]['monades'] = dict_monades[\"Cat\"]\n",
    "            elif unit_speed ==\"Sword\":\n",
    "                karma_plano[str(count)]['monades'] = dict_monades[\"support_sword\"]\n",
    "            elif unit_speed ==\"Spear\":\n",
    "                karma_plano[str(count)]['monades'] = dict_monades[\"support_spear\"]\n",
    "           \n",
    "    return karma_plano"
   ]
  },
  {
   "cell_type": "code",
   "execution_count": null,
   "metadata": {},
   "outputs": [],
   "source": [
    "karma_plan = twaap_to_karma(saved_twwaap_txt_file='LOAD_TW_AAP_RESULTS.txt',\n",
    "               land_time_general=land_time_general,\n",
    "               nuke_ms=nuke_ms,\n",
    "               noble_ms=noble_ms)\n"
   ]
  },
  {
   "cell_type": "code",
   "execution_count": null,
   "metadata": {},
   "outputs": [],
   "source": [
    "import json\n",
    "json_object = json.dumps(karma_plan, indent =0)   \n",
    "\n",
    "karma_plan_store_path = 'C:\\\\Users\\\\georg\\\\OneDrive\\\\Documents\\\\PLANO.txt'\n",
    "with open(karma_plan_store_path, 'w') as f:\n",
    "    f.write(json_object)\n"
   ]
  },
  {
   "cell_type": "code",
   "execution_count": null,
   "metadata": {},
   "outputs": [],
   "source": [
    "# Open karma text file\n",
    "import os\n",
    "os.startfile(karma_plan_store_path)"
   ]
  },
  {
   "cell_type": "code",
   "execution_count": null,
   "metadata": {},
   "outputs": [],
   "source": [
    "# Add planner for fangs\n"
   ]
  },
  {
   "cell_type": "code",
   "execution_count": null,
   "metadata": {},
   "outputs": [],
   "source": []
  }
 ],
 "metadata": {
  "kernelspec": {
   "display_name": "Python 3",
   "language": "python",
   "name": "python3"
  },
  "language_info": {
   "codemirror_mode": {
    "name": "ipython",
    "version": 3
   },
   "file_extension": ".py",
   "mimetype": "text/x-python",
   "name": "python",
   "nbconvert_exporter": "python",
   "pygments_lexer": "ipython3",
   "version": "3.9.4"
  }
 },
 "nbformat": 4,
 "nbformat_minor": 2
}
