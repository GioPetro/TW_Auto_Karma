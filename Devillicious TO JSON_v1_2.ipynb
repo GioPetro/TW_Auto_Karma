{
 "cells": [
  {
   "cell_type": "markdown",
   "metadata": {},
   "source": [
    "# Devilicious TO AUTOMATE JSON KARMA\n",
    "\n",
    "#### Step 1: Use https://devilicious.dev/ to get the SIMPLE EXPORT of the plan."
   ]
  },
  {
   "cell_type": "markdown",
   "metadata": {},
   "source": [
    "# WORLD SETTINGS, ARCHERS?\n",
    "# ADD LAND TIME \n",
    "# ADD NUKES MS \n",
    "#### AND\n",
    "# NOBLES MS\n",
    "\n",
    "# Version 1.2: Added Sword Attack as Anti-Snipes\n",
    "Now we can add fakes and fangs.\n",
    "Fangs are set by default using Cats(number 9 in tw aap).\n",
    "\n",
    "Fakes need to be replaced the unit speed in the generated text to \"Fakes\" or \"fakes\"."
   ]
  },
  {
   "cell_type": "code",
   "execution_count": 21,
   "metadata": {},
   "outputs": [
    {
     "data": {
      "text/plain": [
       "'Expected input of a single command:\\n[unit]ram[/unit] | 2023-03-24 [b]18:11:39.000[/b] | 2023-03-26 10:00:00.000 | 555|406 -> 622|363 | [url=game.php?village=12450&screen=place&target=35741]Attack[/url]\\nMake sure even there are no spaces on the start of the line.\\n'"
      ]
     },
     "execution_count": 21,
     "metadata": {},
     "output_type": "execute_result"
    }
   ],
   "source": [
    "\"WORLD SETTINGS\"\n",
    "ARCHERS = False\n",
    "nuke_ms = \":200\"\n",
    "noble_ms = \":300\"\n",
    "anti_snipe_ms = \":410\"\n",
    "support_ms = \":800\"\n",
    "saved_twwaap_txt_file = 'initial_plan.txt'\n",
    "\"\"\"Expected input of a single command:\n",
    "[unit]ram[/unit] | 2023-03-24 [b]18:11:39.000[/b] | 2023-03-26 10:00:00.000 | 555|406 -> 622|363 | [url=game.php?village=12450&screen=place&target=35741]Attack[/url]\n",
    "Make sure even there are no spaces on the start of the line.\n",
    "\"\"\""
   ]
  },
  {
   "cell_type": "code",
   "execution_count": 22,
   "metadata": {},
   "outputs": [],
   "source": [
    "from datetime import datetime\n",
    "from datetime import timedelta\n",
    "from random import randint\n",
    "import re\n",
    "# how many seconds to add for support commands.\n",
    "support_difference = timedelta(seconds=0) \n",
    "from pytz import timezone\n",
    "TW_VILLAGE_IDS = \"https://en132.tribalwars.net/map/village.txt\""
   ]
  },
  {
   "cell_type": "code",
   "execution_count": 23,
   "metadata": {},
   "outputs": [],
   "source": [
    "d = {}\n",
    "dict_monades = dict()\n",
    "if ARCHERS==True:\n",
    "    dict_monades[\"nuke\"] = {\"0\":[0,0,30000,0,0,30000,30000,0,30000,300,0,0]} #Ram unit\n",
    "    dict_monades[\"nobles\"] = { #Noble unit\n",
    "                          \"0\":[0,0,1400,0,0,700,0,0,400,0,0,1],\n",
    "                          \"1\":[0,0,1400,0,0,700,0,0,0,0,0,1],\n",
    "                          \"2\":[0,0,1400,0,0,700,0,0,0,0,0,1],\n",
    "                          \"3\":[0,0,1400,0,0,700,0,0,0,0,0,1]}\n",
    "    dict_monades[\"attack_sword\"] = {\"0\":[0,1,30000,0,0,30000,30000,0,0,0,0,0]} # Sword unit\n",
    "    dict_monades[\"support_sword\"] = {\"0\":[30000,30000,0,30000,0,0,0,30000,0,0,0,0]} # Sword unit\n",
    "    dict_monades[\"support_spear\"] = {\"0\":[30000,0,0,30000,0,0,0,30000,0,0,0,0]} # spear unit\n",
    "                               \n",
    "    dict_monades[\"fake\"] = {\"0\":[0,0,0,0,1,0,0,0,1,0,0,0]} # Ram unit\n",
    "    dict_monades[\"Cat\"] = {\"0\":[0,0,0,0,50,200,200,200,0,30000,0,0]} # Cat unit\n",
    "else: #archers = False\n",
    "    dict_monades[\"nuke\"] = {\"0\":[0,0,30000,0,30000,0,30000,200,0,0]} # RAM unit\n",
    "    dict_monades[\"nobles\"] = { #Noble unit\n",
    "                              \"0\":[0,0,1400,0,700,0,400,0,0,1],\n",
    "                              \"1\":[0,0,1400,0,700,0,0,0,0,1],\n",
    "                              \"2\":[0,0,1400,0,700,0,0,0,0,1],\n",
    "                              \"3\":[0,0,1400,0,700,0,0,0,0,1]}\n",
    "    dict_monades[\"attack_sword\"] = {\"0\":[0,1,30000,0,30000,0,0,0,0,0]} # Sword unit\n",
    "    dict_monades[\"support_sword\"] = {\"0\":[30000,30000,0,0,0,30000,0,0,0,0]} # Sword unit\n",
    "    dict_monades[\"support_spear\"] = {\"0\":[30000,0,0,0,0,30000,0,0,0,0]} # spear unit\n",
    "    dict_monades[\"fake\"] = {\"0\":[0,0,0,1,0,0,1,0,0,0]} # ram unit\n",
    "    dict_monades[\"Cat\"] = {\"0\":[0,0,0,50,200,200,0,30000,0,0]} # CAT unit"
   ]
  },
  {
   "cell_type": "markdown",
   "metadata": {},
   "source": [
    "## Get the Input from saved_twwaap_txt_file and clean it."
   ]
  },
  {
   "cell_type": "code",
   "execution_count": 9,
   "metadata": {},
   "outputs": [],
   "source": [
    "import re\n",
    "\"\"\"\n",
    "Use strptime to convert string to datetime object\n",
    "Use strftime to convert datetime object to string\n",
    "\"\"\"\n",
    "def twaap_to_karma(saved_twwaap_txt_file, nuke_ms, noble_ms):\n",
    "    \n",
    "    with open (saved_twwaap_txt_file, 'rt') as myfile:\n",
    "        karma_plano = {}\n",
    "\n",
    "        for count, command in enumerate(myfile):              # For each line, read to a string,\n",
    "            karma_plano[str(count)] = {} # 0 and next numbers found by enumarate() when reading lines (fix cell no.4)\n",
    "            x = command.split(\" \")\n",
    "            unit_speed = x[0].replace(\"[unit]\",\"\").replace(\"[/unit]\",\"\")\n",
    "            date1 = datetime.strptime(x[2],\"%Y-%m-%d\").strftime(\"%d/%m/%Y\")\n",
    "            date_time1 = x[3].replace(\"[b]\",\"\").replace(\".000[/b]\",\"\")\n",
    "            launch_time = date1+\", \"+date_time1\n",
    "            date2 = datetime.strptime(x[5],\"%Y-%m-%d\").strftime(\"%d/%m/%Y\")\n",
    "            date_time2 = x[6].replace(\".000\",\"\")\n",
    "            #---------------------------\n",
    "            land_time = date2+\", \"+date_time2 # can be used to change the land time dynamically\n",
    "            #---------------------------\n",
    "            from_coord = x[8]\n",
    "            to_coord = x[10]\n",
    "            village_id = re.search('village=(.+?)&screen', x[12]).group(1)\n",
    "            target_id = re.search('target=(.+?)]', x[12]).group(1)\n",
    "            command_type = re.search('](.+?)\\[/url]', x[12]).group(1).lower()\n",
    "            \n",
    "            \n",
    "            if unit_speed.lower() == \"ram\":\n",
    "            # smart way to tick the box if units are applied\n",
    "                unit_tickboxes = [False if unit==0 else True for unit in dict_monades[\"nuke\"]['0']]\n",
    "                launch_time_number = launch_time+nuke_ms # needs the ms to set for launching (mallon)\n",
    "                land_time = land_time+nuke_ms\n",
    "\n",
    "                # create number from launch date:\n",
    "                launch_time_number = datetime.strptime(launch_time_number,(\"%d/%m/%Y, %H:%M:%S:%f\"))\n",
    "            elif unit_speed.lower() ==\"snob\":\n",
    "            # smart way to tick the box if units are applied\n",
    "                unit_tickboxes = [False if unit==0 else True for unit in dict_monades[\"nobles\"]['0']]\n",
    "                launch_time_number = launch_time+noble_ms # needs the ms to set for launching (mallon)\n",
    "                land_time = land_time+noble_ms\n",
    "                # create number from launch date:\n",
    "                launch_time_number = datetime.strptime(launch_time_number,(\"%d/%m/%Y, %H:%M:%S:%f\"))\n",
    "            elif unit_speed.lower() ==\"spear\": # for support\n",
    "            # smart way to tick the box if units are applied\n",
    "                unit_tickboxes = [False if unit==0 else True for unit in dict_monades[\"support_spear\"]['0']]\n",
    "               \n",
    "                # by default, supports will land 1 second after nukes. Can change in parameter settings.\n",
    "                launch_time_number = launch_time+support_ms # needs the ms to set for launching\n",
    "                launch_time_number = datetime.strptime(launch_time_number,(\"%d/%m/%Y, %H:%M:%S:%f\"))\n",
    "                launch_time_number += support_difference\n",
    "                # add 1 second to land time too and reformat it to (d/m/y, h/m/s/ms)\n",
    "                land_time = land_time+support_ms \n",
    "                land_time = datetime.strptime(land_time,(\"%d/%m/%Y, %H:%M:%S:%f\"))\n",
    "                land_time += support_difference\n",
    "                land_time = land_time.strftime(\"%d/%m/%Y, %H:%M:%S:%f\")[:-3]\n",
    "                # add 1 second to launch_time too (careful, does not need milliseconds)\n",
    "                launch_time = datetime.strptime(launch_time,(\"%d/%m/%Y, %H:%M:%S\"))\n",
    "                launch_time+= support_difference\n",
    "                launch_time = launch_time.strftime(\"%d/%m/%Y, %H:%M:%S\")\n",
    "            \n",
    "            elif unit_speed.lower() ==\"sword\": # for support & Attack\n",
    "            # smart way to tick the box if units are applied\n",
    "                if command_type == \"Support\":\n",
    "                    unit_tickboxes = [False if unit==0 else True for unit in dict_monades[\"support_sword\"]['0']]\n",
    "\n",
    "                    # by default, supports will land 1 second after nukes. Can change in parameter settings.\n",
    "                    launch_time_number = launch_time+support_ms # needs the ms to set for launching\n",
    "                    launch_time_number = datetime.strptime(launch_time_number,(\"%d/%m/%Y, %H:%M:%S:%f\"))\n",
    "                    launch_time_number += support_difference\n",
    "                    # add 1 second to land time too and reformat it to (d/m/y, h/m/s/ms)\n",
    "                    land_time = land_time+support_ms \n",
    "                    land_time = datetime.strptime(land_time,(\"%d/%m/%Y, %H:%M:%S:%f\"))\n",
    "                    land_time += support_difference\n",
    "                    land_time = land_time.strftime(\"%d/%m/%Y, %H:%M:%S:%f\")[:-3]\n",
    "                    # add 1 second to launch_time too (careful, does not need milliseconds)\n",
    "                    launch_time = datetime.strptime(launch_time,(\"%d/%m/%Y, %H:%M:%S\"))\n",
    "                    launch_time+= support_difference\n",
    "                    launch_time = launch_time.strftime(\"%d/%m/%Y, %H:%M:%S\")\n",
    "                elif command_type == \"Attack\": # Anti-Snipe by default ms\n",
    "                    unit_tickboxes = [False if unit==0 else True for unit in dict_monades[\"attack_sword\"]['0']]\n",
    "                    launch_time_number = launch_time+anti_snipe_ms # needs the ms to set for launching (mallon)\n",
    "                    land_time = land_time+anti_snipe_ms\n",
    "\n",
    "                    # create number from launch date:\n",
    "                    launch_time_number = datetime.strptime(launch_time_number,(\"%d/%m/%Y, %H:%M:%S:%f\"))\n",
    "            \n",
    "           \n",
    "            elif unit_speed.lower() ==\"fake\": # for fakes\n",
    "                unit_tickboxes = [False if unit==0 else True for unit in dict_monades[\"fake\"]['0']]\n",
    "                # add random ms for fakes\n",
    "                random_ms_fake = \":\"+''.join([\"{}\".format(randint(0, 9)) for num in range(0, 3)]) #up to 999 ms\n",
    "                launch_time_number = launch_time+random_ms_fake # needs the ms to set for launching (mallon)\n",
    "                land_time = land_time+random_ms_fake\n",
    "                # create number from launch date:\n",
    "                launch_time_number = datetime.strptime(launch_time_number,(\"%d/%m/%Y, %H:%M:%S:%f\"))\n",
    "\n",
    "            elif unit_speed.lower() ==\"catapult\": # for fangs\n",
    "                unit_tickboxes = [False if unit==0 else True for unit in dict_monades[\"Cat\"]['0']]\n",
    "                # add random ms for fakes\n",
    "                random_ms_fake = \":\"+''.join([\"{}\".format(randint(0, 9)) for num in range(0, 3)]) #up to 999 ms\n",
    "                launch_time_number = launch_time+random_ms_fake # needs the ms to set for launching (mallon)\n",
    "                land_time = land_time+random_ms_fake\n",
    "                # create number from launch date:\n",
    "                launch_time_number = datetime.strptime(launch_time_number,(\"%d/%m/%Y, %H:%M:%S:%f\"))\n",
    "            \n",
    "            launch_time_number = int(round(launch_time_number.timestamp() *1000)) - 12000\n",
    "            karma_plano[str(count)]['basic'] = [village_id, # id of the village (url)\n",
    "                       from_coord,\n",
    "                       to_coord,\n",
    "                       land_time,\n",
    "                       launch_time, \n",
    "                       launch_time_number,\n",
    "                       command_type,\n",
    "                       False,0, '',\n",
    "                       # smart way to tick the box if units are applied\n",
    "                       #false,false,false,false,true,false,false,false,false,false,false,false\n",
    "                      ]+unit_tickboxes\n",
    "            if unit_speed.lower() == \"ram\":\n",
    "                karma_plano[str(count)]['monades'] = dict_monades[\"nuke\"]\n",
    "            elif unit_speed.lower() ==\"snob\":\n",
    "                karma_plano[str(count)]['monades'] = dict_monades[\"nobles\"]\n",
    "            elif unit_speed.lower() ==\"fake\":\n",
    "                karma_plano[str(count)]['monades'] = dict_monades[\"fake\"]\n",
    "            elif unit_speed.lower() ==\"catapult\":\n",
    "                karma_plano[str(count)]['monades'] = dict_monades[\"Cat\"]\n",
    "            elif unit_speed.lower() ==\"sword\":\n",
    "                karma_plano[str(count)]['monades'] = dict_monades[\"support_sword\"]\n",
    "            elif unit_speed.lower() ==\"spear\":\n",
    "                karma_plano[str(count)]['monades'] = dict_monades[\"support_spear\"]\n",
    "           \n",
    "    return karma_plano"
   ]
  },
  {
   "cell_type": "code",
   "execution_count": 13,
   "metadata": {},
   "outputs": [
    {
     "name": "stdout",
     "output_type": "stream",
     "text": [
      "['[unit]ram[/unit]', '|', '2023-03-24', '[b]18:11:39.000[/b]', '|', '2023-03-26', '10:00:00.000', '|', '555|406', '->', '622|363', '|', '[url=game.php?village=12450&screen=place&target=35741]Attack[/url]\\n']\n",
      "['[unit]ram[/unit]', '|', '2023-03-24', '[b]20:50:05.000[/b]', '|', '2023-03-26', '10:00:00.000', '|', '551|385', '->', '622|363', '|', '[url=game.php?village=16158&screen=place&target=35741]Attack[/url]\\n']\n",
      "['[unit]ram[/unit]', '|', '2023-03-24', '[b]21:35:58.000[/b]', '|', '2023-03-26', '10:00:00.000', '|', '554|387', '->', '622|361', '|', '[url=game.php?village=16582&screen=place&target=36701]Attack[/url]\\n']\n",
      "['[unit]ram[/unit]', '|', '2023-03-24', '[b]23:59:47.000[/b]', '|', '2023-03-26', '10:00:00.000', '|', '556|386', '->', '621|366', '|', '[url=game.php?village=17096&screen=place&target=35206]Attack[/url]\\n']\n",
      "['[unit]ram[/unit]', '|', '2023-03-25', '[b]00:40:33.000[/b]', '|', '2023-03-26', '10:00:00.000', '|', '563|392', '->', '622|361', '|', '[url=game.php?village=15853&screen=place&target=36701]Attack[/url]\\n']\n",
      "['[unit]ram[/unit]', '|', '2023-03-25', '[b]01:30:00.000[/b]', '|', '2023-03-26', '10:00:00.000', '|', '569|397', '->', '621|358', '|', '[url=game.php?village=20326&screen=place&target=39360]Attack[/url]\\n']\n",
      "['[unit]ram[/unit]', '|', '2023-03-25', '[b]01:48:33.000[/b]', '|', '2023-03-26', '10:00:00.000', '|', '557|351', '->', '621|358', '|', '[url=game.php?village=28202&screen=place&target=39360]Attack[/url]\\n']\n",
      "['[unit]ram[/unit]', '|', '2023-03-25', '[b]05:29:44.000[/b]', '|', '2023-03-26', '10:00:00.000', '|', '566|381', '->', '621|366', '|', '[url=game.php?village=19537&screen=place&target=35206]Attack[/url]\\n']\n",
      "['[unit]ram[/unit]', '|', '2023-03-25', '[b]06:12:54.000[/b]', '|', '2023-03-26', '10:00:00.000', '|', '571|389', '->', '619|361', '|', '[url=game.php?village=18076&screen=place&target=37144]Attack[/url]\\n']\n",
      "['[unit]ram[/unit]', '|', '2023-03-25', '[b]06:55:34.000[/b]', '|', '2023-03-26', '10:00:00.000', '|', '568|391', '->', '622|387', '|', '[url=game.php?village=20320&screen=place&target=30640]Attack[/url]\\n']\n",
      "['[unit]ram[/unit]', '|', '2023-03-25', '[b]07:19:51.000[/b]', '|', '2023-03-26', '10:00:00.000', '|', '573|388', '->', '619|361', '|', '[url=game.php?village=18529&screen=place&target=37144]Attack[/url]\\n']\n",
      "['[unit]ram[/unit]', '|', '2023-03-25', '[b]07:41:39.000[/b]', '|', '2023-03-26', '10:00:00.000', '|', '570|395', '->', '622|387', '|', '[url=game.php?village=27057&screen=place&target=30640]Attack[/url]\\n']\n",
      "['[unit]ram[/unit]', '|', '2023-03-25', '[b]10:48:19.000[/b]', '|', '2023-03-26', '10:00:00.000', '|', '573|355', '->', '619|361', '|', '[url=game.php?village=28397&screen=place&target=37144]Attack[/url]\\n']\n",
      "['[unit]sword[/unit]', '|', '2023-03-25', '[b]12:32:29.000[/b]', '|', '2023-03-26', '10:00:00.000', '|', '572|390', '->', '621|358', '|', '[url=game.php?village=18504&screen=place&target=39360]Attack[/url]\\n']\n",
      "['[unit]snob[/unit]', '|', '2023-03-26', '[b]05:11:23.000[/b]', '|', '2023-03-26', '10:00:00.000', '|', '623|366', '->', '621|358', '|', '[url=game.php?village=35753&screen=place&target=39360]Attack[/url]\\n']\n",
      "['[unit]snob[/unit]', '|', '2023-03-26', '[b]06:15:53.000[/b]', '|', '2023-03-26', '10:00:00.000', '|', '623|366', '->', '619|361', '|', '[url=game.php?village=35753&screen=place&target=37144]Attack[/url]\\n']\n",
      "['[unit]snob[/unit]', '|', '2023-03-26', '[b]07:01:32.000[/b]', '|', '2023-03-26', '10:00:00.000', '|', '623|366', '->', '622|361', '|', '[url=game.php?village=35753&screen=place&target=36701]Attack[/url]\\n']\n",
      "['[unit]snob[/unit]', '|', '2023-03-26', '[b]08:09:19.000[/b]', '|', '2023-03-26', '10:00:00.000', '|', '623|366', '->', '622|363', '|', '[url=game.php?village=35753&screen=place&target=35741]Attack[/url]\\n']\n",
      "['[unit]snob[/unit]', '|', '2023-03-26', '[b]08:50:00.000[/b]', '|', '2023-03-26', '10:00:00.000', '|', '623|366', '->', '621|366', '|', '[url=game.php?village=35753&screen=place&target=35206]Attack[/url]']\n"
     ]
    }
   ],
   "source": [
    "karma_plan = twaap_to_karma(saved_twwaap_txt_file=saved_twwaap_txt_file,\n",
    "               nuke_ms=nuke_ms,\n",
    "               noble_ms=noble_ms)\n"
   ]
  },
  {
   "cell_type": "code",
   "execution_count": 14,
   "metadata": {},
   "outputs": [],
   "source": [
    "import json\n",
    "json_object = json.dumps(karma_plan, indent =0)   \n",
    "\n",
    "karma_plan_store_path = 'plano_ready.txt'\n",
    "with open(karma_plan_store_path, 'w') as f:\n",
    "    f.write(json_object)"
   ]
  },
  {
   "cell_type": "code",
   "execution_count": 15,
   "metadata": {},
   "outputs": [],
   "source": [
    "# Open karma text file\n",
    "import os\n",
    "os.startfile(karma_plan_store_path)"
   ]
  },
  {
   "cell_type": "code",
   "execution_count": null,
   "metadata": {},
   "outputs": [],
   "source": [
    "# Add planner for fangs\n"
   ]
  },
  {
   "cell_type": "code",
   "execution_count": null,
   "metadata": {},
   "outputs": [],
   "source": []
  },
  {
   "cell_type": "code",
   "execution_count": null,
   "metadata": {},
   "outputs": [],
   "source": []
  }
 ],
 "metadata": {
  "kernelspec": {
   "display_name": "Python 3",
   "language": "python",
   "name": "python3"
  },
  "language_info": {
   "codemirror_mode": {
    "name": "ipython",
    "version": 3
   },
   "file_extension": ".py",
   "mimetype": "text/x-python",
   "name": "python",
   "nbconvert_exporter": "python",
   "pygments_lexer": "ipython3",
   "version": "3.9.4"
  }
 },
 "nbformat": 4,
 "nbformat_minor": 2
}
